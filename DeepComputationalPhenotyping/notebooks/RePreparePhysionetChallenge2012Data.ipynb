{
 "cells": [
  {
   "cell_type": "code",
   "execution_count": null,
   "metadata": {
    "collapsed": false
   },
   "outputs": [],
   "source": [
    "from __future__ import division\n",
    "\n",
    "import argparse\n",
    "import scipy.io as sio\n",
    "import numpy as np\n",
    "\n",
    "import os\n",
    "import pandas\n",
    "import re\n",
    "import sys\n",
    "import time\n",
    "\n",
    "from pandas import Series, DataFrame\n",
    "from sklearn.cross_validation import StratifiedKFold\n",
    "\n",
    "from tengwar.data import extract_features_with_sliding_window, get_resampling_features"
   ]
  },
  {
   "cell_type": "code",
   "execution_count": null,
   "metadata": {
    "collapsed": false
   },
   "outputs": [],
   "source": [
    "parser = argparse.ArgumentParser()\n",
    "parser.add_argument('input', type=unicode)\n",
    "parser.add_argument('output', type=unicode)\n",
    "parser.add_argument('--resample_rate', '-r', type=int, default=1)\n",
    "parser.add_argument('--min_length', '-m', type=float, default=12)\n",
    "parser.add_argument('--target_length', '-l', type=float, default=48)\n",
    "\n",
    "import __main__\n",
    "if not hasattr(__main__, '__file__'):\n",
    "    import platform\n",
    "    users = '/Users/' if platform.system()=='Darwin' else '/home/'\n",
    "    args = parser.parse_args(args=[ users + 'mldata/medical/physionet-challenge2012/physionet_challenge2012_merged_bp.npz',\n",
    "                                    users + 'mldata/KDD/physionet'\n",
    "                                  ])\n",
    "    %pylab inline\n",
    "else:\n",
    "    args = parser.parse_args()"
   ]
  },
  {
   "cell_type": "code",
   "execution_count": null,
   "metadata": {
    "collapsed": false
   },
   "outputs": [],
   "source": [
    "sys.stdout.write('Loading episode lengths...')\n",
    "sys.stdout.flush()\n",
    "ndata = np.load(args.input)\n",
    "T = ndata['tsraw']\n",
    "ylos = ndata['ylos'].astype(float)\n",
    "ylos[ylos==-1] = np.nan\n",
    "\n",
    "sys.stdout.write('keeping only >={0} hours...'.format(args.min_length))\n",
    "sys.stdout.flush()\n",
    "lengths = np.nanmin(np.vstack((np.array([ t.max()/60 for t in T ]), ylos*24)),axis=0)\n",
    "keepix = (lengths>=args.min_length)\n",
    "\n",
    "sys.stdout.write('{0} episodes ({1:.2f}%)\\n'.format(keepix.sum(), keepix.mean()*100))"
   ]
  },
  {
   "cell_type": "code",
   "execution_count": null,
   "metadata": {
    "collapsed": false
   },
   "outputs": [],
   "source": [
    "sys.stdout.write('Loading data...')\n",
    "sys.stdout.flush()\n",
    "el = time.clock()\n",
    "\n",
    "T = T[keepix]\n",
    "ylos = ylos[keepix]\n",
    "\n",
    "X = ndata['Xraw'][keepix]\n",
    "Y = np.vstack(( ndata['ym'][keepix].astype(float),\n",
    "                ylos,\n",
    "                ndata['ysurv'][keepix].astype(float) )).T\n",
    "\n",
    "recordid = ndata['recordid'][keepix]\n",
    "Ep = np.arange(X.shape[0])\n",
    "\n",
    "icutype = ndata['icutype'][keepix]\n",
    "icutype_bin = np.zeros((icutype.shape[0],4))\n",
    "for i in np.arange(icutype.shape[0]):\n",
    "    icutype_bin[i,icutype[i]-1] = 1\n",
    "\n",
    "Xstatic = np.vstack(( ndata['age'][keepix],\n",
    "                      ndata['gender'][keepix],\n",
    "                      ndata['height'][keepix],\n",
    "                      icutype_bin.T,\n",
    "                      np.array([ np.any(x[:,18][~np.isnan(x[:,18])]>0) for x in X ]),\n",
    "                      ndata['weight'][keepix] )).T\n",
    "Xstatic[Xstatic == -1] = np.nan\n",
    "Xstatic_names = [ 'age', 'gender', 'height' ]\n",
    "Xstatic_names.extend([ 'icutype{0}'.format(u+1) for u in np.arange(4) ])\n",
    "Xstatic_names.extend([ 'icutype', 'mechvent', 'weight' ])\n",
    "\n",
    "scores = np.vstack(( ndata['saps1'][keepix], ndata['sofa'][keepix] )).T\n",
    "scores_names = [ 'saps1', 'sofa' ]\n",
    "\n",
    "el = time.clock() - el\n",
    "sys.stdout.write('DONE, took {0:2f}s\\n'.format(el))"
   ]
  },
  {
   "cell_type": "code",
   "execution_count": null,
   "metadata": {
    "collapsed": false
   },
   "outputs": [],
   "source": [
    "msmts_per_ep = np.vstack([ np.sum(~np.isnan(x),axis=0) for x in X ])\n",
    "hours_per_ep = np.array([ t.max()/60 for t in T ])\n",
    "\n",
    "msmts_per_hour_overall = msmts_per_ep.sum(axis=0) / hours_per_ep.sum()\n",
    "#print 'MSMTS/HR, OVERALL', msmts_per_hour_overall\n",
    "TEMP = msmts_per_ep.astype(float)\n",
    "TEMP[TEMP==0] = np.nan\n",
    "msmts_per_hour_average = np.nanmean(TEMP / hours_per_ep[:,None],axis=0)\n",
    "print 'MSMTS/HR, AVERAGE', msmts_per_hour_average\n",
    "print ''\n",
    "\n",
    "ix = np.argsort(msmts_per_hour_average)\n",
    "_ = plt.figure()\n",
    "_ = plt.bar(np.arange(msmts_per_hour_average.shape[0]), msmts_per_hour_average[ix], width=0.9, color='r')\n",
    "_ = plt.xticks([])\n",
    "#_ = plt.xticks(np.arange(hours_per_msmt_average.shape[0]), np.arange(hours_per_msmt_average.shape[0])[ix]+1)\n",
    "_ = plt.title('Avg msmts/hour (ignoring missing TS)')\n",
    "plt.savefig('sampling-msmts_hours.png')\n",
    "\n",
    "hours_per_msmt_overall = hours_per_ep.sum() / msmts_per_ep.sum(axis=0)\n",
    "#print 'HRS/MSMT, OVERALL', hours_per_msmt_overall\n",
    "hours_per_msmt_average = hours_per_ep[:,None] / msmts_per_ep\n",
    "hours_per_msmt_average[np.isinf(hours_per_msmt_average)] = np.nan\n",
    "hours_per_msmt_average = np.nanmean(hours_per_msmt_average,axis=0)\n",
    "print 'HRS/MSMT, AVERAGE', hours_per_msmt_average\n",
    "\n",
    "missingness = (msmts_per_ep==0).mean(axis=0)\n",
    "ix = np.argsort(missingness)\n",
    "_ = plt.figure()\n",
    "_ = plt.bar(np.arange(missingness.shape[0]), missingness[ix], width=0.9, color='g')\n",
    "_ = plt.xticks([])\n",
    "_ = plt.title('Fraction of episodes with 0 msmts')\n",
    "plt.savefig('missingness.png')\n",
    "\n",
    "ix = np.argsort(hours_per_msmt_average)\n",
    "_ = plt.figure()\n",
    "_ = plt.bar(np.arange(hours_per_msmt_average.shape[0]), hours_per_msmt_average[ix], width=0.9, color='b')\n",
    "#_ = plt.xticks(np.arange(hours_per_msmt_average.shape[0]), np.arange(hours_per_msmt_average.shape[0])[ix]+1)\n",
    "_ = plt.title('Avg hours/msmt (ignoring missing TS)')\n",
    "_ = plt.xticks([])\n",
    "plt.savefig('sampling-hours_msmts.png')\n",
    "\n",
    "df = DataFrame(data={'VariableId': np.arange(msmts_per_hour_overall.shape[0])+1, 'Missing': missingness,\n",
    "                     'MsmtPerHourOverall': msmts_per_hour_overall, 'MsmtPerHourAverage': msmts_per_hour_average,\n",
    "                     'HoursBtwnMsmtOverall': hours_per_msmt_overall, 'HoursBtwnMsmtAverage': hours_per_msmt_average})\n",
    "df.sort(columns=['Missing','HoursBtwnMsmtAverage','MsmtPerHourAverage'], ascending=[True,True,False], inplace=True)\n",
    "df.set_index('VariableId', inplace=True)\n",
    "df = df[['Missing','HoursBtwnMsmtAverage','HoursBtwnMsmtOverall','MsmtPerHourAverage','MsmtPerHourOverall']]\n",
    "df.to_excel('sampling-rates-etc.xls')\n",
    "df.to_csv('sampling-rates-etc.csv')"
   ]
  },
  {
   "cell_type": "code",
   "execution_count": null,
   "metadata": {
    "collapsed": false
   },
   "outputs": [],
   "source": [
    "sys.stdout.write('Determining variable stats/ranges...')\n",
    "sys.stdout.flush()\n",
    "el = time.clock()\n",
    "\n",
    "stats = np.zeros((5,X[0].shape[1],3))\n",
    "for u in np.unique(icutype):\n",
    "    Xmsmts = np.vstack(X[icutype==u])\n",
    "    stats[u,:] = np.nanpercentile(Xmsmts, [0.01, 50, 99.99], axis=0).T\n",
    "    \n",
    "Xmsmts = np.vstack(X)\n",
    "stats[0,:] = np.nanpercentile(Xmsmts, [0.01, 50, 99.99], axis=0).T\n",
    "\n",
    "ranges = np.hstack((np.arange(stats.shape[1])[:,None]+1, stats[0,:,:]))\n",
    "\n",
    "el = time.clock() - el\n",
    "sys.stdout.write('DONE, took {0:2f}s\\n'.format(el))"
   ]
  },
  {
   "cell_type": "code",
   "execution_count": null,
   "metadata": {
    "collapsed": false
   },
   "outputs": [],
   "source": [
    "print 'Empirical Min, Normal, Max'\n",
    "print DataFrame(ranges).set_index(0)\n",
    "print ''\n",
    "print 'Correcting <0 Low values and variable 19 (0)'\n",
    "ranges[ranges[:,1]<0,1] = 0\n",
    "ranges[ranges[:,0]==19,1] = 0\n",
    "\n",
    "print ''\n",
    "print 'Correcting Normal values for variables 10 (0.21), 11 (13), 19 (0)'\n",
    "ranges[ranges[:,0]==10,2] = 0.21\n",
    "ranges[ranges[:,0]==11,2] = 13\n",
    "ranges[ranges[:,0]==19,2] = 0\n",
    "ranges[ranges[:,0]==36,2] = 0.5\n",
    "ranges[ranges[:,0]==38,1:3] = 0\n",
    "ranges[ranges[:,0]==39,2] = 0\n",
    "\n",
    "print ''\n",
    "print 'Final Ranges'\n",
    "print DataFrame(ranges).set_index(0)"
   ]
  },
  {
   "cell_type": "code",
   "execution_count": null,
   "metadata": {
    "collapsed": false
   },
   "outputs": [],
   "source": [
    "xix = (ranges[:,3]-ranges[:,1]) != 0\n",
    "print 'Removing {0} variables with no range, weight (var 33) b/c of noise'.format((~xix).sum())\n",
    "xix[32] = False\n",
    "ranges = ranges[xix,:]\n",
    "stats  = stats[:,xix,:]"
   ]
  },
  {
   "cell_type": "code",
   "execution_count": null,
   "metadata": {
    "collapsed": false
   },
   "outputs": [],
   "source": [
    "sys.stdout.write('Determining static variable stats/ranges...')\n",
    "sys.stdout.flush()\n",
    "el = time.clock()\n",
    "\n",
    "stats_static = np.zeros((5,Xstatic.shape[1],3))\n",
    "for u in np.unique(icutype):\n",
    "    stats_static[u,:] = np.nanpercentile(Xstatic[icutype==u,:], [0.01, 50, 99.99], axis=0).T\n",
    "    \n",
    "stats_static[0,:] = np.nanpercentile(Xstatic, [0.01, 50, 99.99], axis=0).T\n",
    "\n",
    "ranges_static = np.hstack((np.arange(stats_static.shape[1])[:,None]+1, stats_static[0,:,:]))\n",
    "\n",
    "el = time.clock() - el\n",
    "sys.stdout.write('DONE, took {0:2f}s\\n'.format(el))"
   ]
  },
  {
   "cell_type": "code",
   "execution_count": null,
   "metadata": {
    "collapsed": false
   },
   "outputs": [],
   "source": [
    "ranges_static[ranges_static[:,0]==2,2] = 0.5\n",
    "ranges_static[ranges_static[:,0]==4,2] = 0\n",
    "ranges_static[ranges_static[:,0]==5,2] = 0"
   ]
  },
  {
   "cell_type": "code",
   "execution_count": null,
   "metadata": {
    "collapsed": false
   },
   "outputs": [],
   "source": [
    "X_list = np.where(xix)[0] + 1"
   ]
  },
  {
   "cell_type": "code",
   "execution_count": null,
   "metadata": {
    "collapsed": false,
    "scrolled": false
   },
   "outputs": [],
   "source": [
    "Xmsmts = np.vstack(X)\n",
    "for vi,x in enumerate(Xmsmts[:,xix].T):\n",
    "    fg = plt.figure()\n",
    "    _ = plt.hist(x[~np.isnan(x)], bins=100, cumulative=False, range=(ranges[vi,1], ranges[vi,3]))\n",
    "    plt.title('Variable {0}, before rescale ({1} > 0.75)'.format(X_list[vi], np.nansum(x>=0.75*ranges[vi,3])))\n",
    "    plt.savefig(os.path.join('var{0:02d}-values.png'.format(X_list[vi])))"
   ]
  },
  {
   "cell_type": "code",
   "execution_count": null,
   "metadata": {
    "collapsed": false
   },
   "outputs": [],
   "source": [
    "sys.stdout.write('Rescaling all variables to empirical range, removing outliers...')\n",
    "sys.stdout.flush()\n",
    "Xraw = X.copy()\n",
    "X = np.array([(x[:,xix]-ranges[:,1]) / (ranges[:,3] - ranges[:,1]) for x in X ])\n",
    "for x in X:\n",
    "    x[x<0] = 0\n",
    "    x[x>1] = 1\n",
    "\n",
    "sys.stdout.write('DONE!\\n')"
   ]
  },
  {
   "cell_type": "code",
   "execution_count": null,
   "metadata": {
    "collapsed": false,
    "scrolled": false
   },
   "outputs": [],
   "source": [
    "Xmsmts = np.vstack(X)\n",
    "for vi,x in enumerate(Xmsmts.T):\n",
    "    fg = plt.figure()\n",
    "    _ = plt.hist(x[~np.isnan(x)], bins=100, cumulative=False, range=(0,1))\n",
    "    plt.title('Variable {0}, after rescale ({1} > 0.75)'.format(X_list[vi], np.nansum(x>=0.75)))\n",
    "    plt.savefig(os.path.join('var{0:02d}-values-rescaled.png'.format(X_list[vi])))"
   ]
  },
  {
   "cell_type": "code",
   "execution_count": null,
   "metadata": {
    "collapsed": false
   },
   "outputs": [],
   "source": [
    "sys.stdout.write('Rescaling all static variables to empirical range, removing outliers...')\n",
    "sys.stdout.flush()\n",
    "Xstatic_raw = Xstatic.copy()\n",
    "Xstatic = (Xstatic-ranges_static[:,1]) / (ranges_static[:,3] - ranges_static[:,1])\n",
    "Xstatic[Xstatic<0] = 0\n",
    "Xstatic[Xstatic>1] = 1\n",
    "\n",
    "sys.stdout.write('DONE!\\n')"
   ]
  },
  {
   "cell_type": "code",
   "execution_count": null,
   "metadata": {
    "collapsed": false
   },
   "outputs": [],
   "source": [
    "Xstatic_miss = Xstatic.copy()\n",
    "for vi in np.arange(Xstatic_miss.shape[1]):\n",
    "    ix = np.isnan(Xstatic[:,vi])\n",
    "    Xstatic[ix,vi] = ranges_static[vi,2]"
   ]
  },
  {
   "cell_type": "code",
   "execution_count": null,
   "metadata": {
    "collapsed": false
   },
   "outputs": [],
   "source": [
    "sys.stdout.write('Creating resampled, missing time series...')\n",
    "sys.stdout.flush()\n",
    "el = time.clock()\n",
    "\n",
    "Xmiss = [ extract_features_with_sliding_window(x, fn=get_resampling_features, timestamps=t/60,\n",
    "                                               max_length=args.target_length, impute=False)\n",
    "            for (x,t) in zip(X,T) ]\n",
    "Xmiss = np.array([ np.squeeze(np.rollaxis(x, axis=2)) for x in Xmiss ])\n",
    "\n",
    "el = time.clock() - el\n",
    "sys.stdout.write('DONE, took {0:2f}s\\n'.format(el))"
   ]
  },
  {
   "cell_type": "code",
   "execution_count": null,
   "metadata": {
    "collapsed": false
   },
   "outputs": [],
   "source": [
    "sys.stdout.write('Creating resampled, imputed time series...')\n",
    "sys.stdout.flush()\n",
    "el = time.clock()\n",
    "\n",
    "Ximpute = [ extract_features_with_sliding_window(x, fn=get_resampling_features, timestamps=t/60,\n",
    "                                                 max_length=args.target_length, impute=True)\n",
    "            for (x,t) in zip(X,T) ]\n",
    "Ximpute = np.array([ np.squeeze(np.rollaxis(x, axis=2)) for x in Ximpute ])\n",
    "\n",
    "el = time.clock() - el\n",
    "sys.stdout.write('DONE, took {0:2f}s\\n'.format(el))"
   ]
  },
  {
   "cell_type": "code",
   "execution_count": null,
   "metadata": {
    "collapsed": false
   },
   "outputs": [],
   "source": [
    "Timpute = np.array([ x.shape[0] if len(x.shape) == 2 else 1 for x in Ximpute ])"
   ]
  },
  {
   "cell_type": "code",
   "execution_count": null,
   "metadata": {
    "collapsed": false
   },
   "outputs": [],
   "source": [
    "sys.stdout.write('Imputing missing time series with unit specific normals...')\n",
    "sys.stdout.flush()\n",
    "el = time.clock()\n",
    "\n",
    "XimputeUnit = Ximpute.copy()\n",
    "for xi in np.arange(XimputeUnit.shape[0]):\n",
    "    u = icutype[xi]\n",
    "    x = XimputeUnit[xi]\n",
    "    for vi in np.arange(x.shape[1]):\n",
    "        if vi == 9:\n",
    "            XimputeUnit[xi][np.isnan(x[:,vi]),vi] = (ranges[9,2] - ranges[9,1]) / (ranges[9,3] - ranges[9,1])\n",
    "        elif vi == 10:\n",
    "            XimputeUnit[xi][np.isnan(x[:,vi]),vi] = (ranges[10,2] - ranges[10,1]) / (ranges[10,3] - ranges[10,1])\n",
    "        elif vi == 18:\n",
    "            XimputeUnit[xi][np.isnan(x[:,vi]),vi] = (ranges[18,2] - ranges[18,1]) / (ranges[18,3] - ranges[18,1])\n",
    "        else:\n",
    "            XimputeUnit[xi][np.isnan(x[:,vi]),vi] = (stats[u,vi,1] - ranges[vi,1]) / (ranges[vi,3] - ranges[vi,1])\n",
    "\n",
    "el = time.clock() - el\n",
    "sys.stdout.write('DONE, took {0:2f}s\\n'.format(el))"
   ]
  },
  {
   "cell_type": "code",
   "execution_count": null,
   "metadata": {
    "collapsed": false
   },
   "outputs": [],
   "source": [
    "sys.stdout.write('Imputing missing time series with unit specific normals...')\n",
    "sys.stdout.flush()\n",
    "el = time.clock()\n",
    "\n",
    "for xi in np.arange(Ximpute.shape[0]):\n",
    "    x = Ximpute[xi]\n",
    "    for vi in np.arange(x.shape[1]):\n",
    "        Ximpute[xi][np.isnan(x[:,vi]),vi] = (ranges[vi,2] - ranges[vi,1]) / (ranges[vi,3] - ranges[vi,1])\n",
    "el = time.clock() - el\n",
    "sys.stdout.write('DONE, took {0:2f}s\\n'.format(el))"
   ]
  },
  {
   "cell_type": "code",
   "execution_count": null,
   "metadata": {
    "collapsed": false
   },
   "outputs": [],
   "source": [
    "ix = ~np.isnan(ymort) & ~np.isnan(ylos) & ~np.isnan(icutype)\n",
    "\n",
    "temp = ysurv.copy()\n",
    "temp[temp==-999] = 999\n",
    "temp = temp-ylos\n",
    "Th = range(1,11)\n",
    "cc = np.array([np.corrcoef(np.vstack((ymort[ix],(temp[ix]<th).astype(float))))[0,1] for th in Th])\n",
    "th = Th[np.where(cc<1.0)[0][0]]\n",
    "ysurvbin = (temp<th).astype(float)\n",
    "lsurvbin = 'survival<{0}'.format(th)\n",
    "\n",
    "#Th = range(3,11)\n",
    "#cc = [np.corrcoef(np.vstack((ymort[ix],(ylos[ix]<th).astype(float))))[0,1] for th in Th]\n",
    "#th = Th[argmax(cc)]\n",
    "#ylosbin = (ylos<th).astype(float)\n",
    "#llosbin = 'los<{0}'.format(th)\n",
    "\n",
    "ysurgery = (np.mod(icutype,2)==0).astype(float)\n",
    "assert(np.all(ysurgery==((icutype==2)|(icutype==4))))\n",
    "\n",
    "ycardiac = (icutype<=2)\n",
    "assert(np.all(ycardiac==(icutype<=2))).astype(int)\n",
    "\n",
    "Y = np.vstack([ymort,ysurvbin,ysurgery,ycardiac]).T\n",
    "Y_names = [ 'mortality', lsurvbin, 'surgery', 'cardiac' ]\n",
    "\n",
    "print Y_names\n",
    "print np.corrcoef(Y[ix,:].T)"
   ]
  },
  {
   "cell_type": "code",
   "execution_count": null,
   "metadata": {
    "collapsed": false
   },
   "outputs": [],
   "source": [
    "islabeled = np.all(~np.isnan(Y),axis=1) #& ~np.isnan(ylos)"
   ]
  },
  {
   "cell_type": "code",
   "execution_count": null,
   "metadata": {
    "collapsed": false
   },
   "outputs": [],
   "source": [
    "ym2 = Y[:,0].copy()\n",
    "ym2[np.isnan(ym2)] = 2\n",
    "\n",
    "fold10 = np.zeros((len(X),), dtype=int)\n",
    "for fi,(_,teix) in enumerate(StratifiedKFold(ym2, n_folds=10)):\n",
    "    fold10[teix] = fi+1\n",
    "\n",
    "fold5 = np.zeros((len(X),), dtype=int)\n",
    "for fi,(_,teix) in enumerate(StratifiedKFold(ym2, n_folds=5)):\n",
    "    fold5[teix] = fi+1"
   ]
  },
  {
   "cell_type": "code",
   "execution_count": null,
   "metadata": {
    "collapsed": false
   },
   "outputs": [],
   "source": [
    "np.savez(os.path.join(args.output, 'physionet_challenge-60min.npz'),\n",
    "            Xirreg=X, Tirreg=T,\n",
    "            X=Ximpute, T=Timpute, Xmiss=Xmiss,\n",
    "            Xu=XimputeUnit, Xlist=X_list,\n",
    "            Xranges=ranges, Xstats=stats,\n",
    "            V=Xstatic, Vmiss=Xstatic_miss, Vnames=Xstatic_names,\n",
    "            Vranges=ranges_static,\n",
    "            S=scores, Snames=scores_names,\n",
    "            Y=Y, Ynames=Y_names,\n",
    "            Ep=Ep, recordid=recordid, icutype=icutype,\n",
    "            fold10=fold10, fold5=fold5,\n",
    "            islabeled=islabeled\n",
    "        )"
   ]
  },
  {
   "cell_type": "code",
   "execution_count": null,
   "metadata": {
    "collapsed": false
   },
   "outputs": [],
   "source": [
    "sio.savemat(os.path.join(args.output, 'physionet_challenge-60min.mat'),\n",
    "          { 'Xirreg': X, 'Tirreg': T,\n",
    "            'X': Ximpute, 'T': Timpute, 'Xmiss': Xmiss,\n",
    "            'Xu': XimputeUnit, 'Xlist': X_list,\n",
    "            'Xranges': ranges, 'Xstats': stats,\n",
    "            'V': Xstatic, 'Vmiss': Xstatic_miss, 'Vnames': Xstatic_names,\n",
    "            'Vranges': ranges_static,\n",
    "            'S': scores, 'Snames': scores_names,\n",
    "            'Y': Y, 'Ynames': Y_names,\n",
    "            'Ep': Ep, 'recordid': recordid, 'icutype': icutype,\n",
    "            'fold10': fold10, 'fold5': fold5,\n",
    "            'islabeled': islabeled }\n",
    "        )"
   ]
  }
 ],
 "metadata": {
  "kernelspec": {
   "display_name": "Python 2",
   "language": "python",
   "name": "python2"
  },
  "language_info": {
   "codemirror_mode": {
    "name": "ipython",
    "version": 2
   },
   "file_extension": ".py",
   "mimetype": "text/x-python",
   "name": "python",
   "nbconvert_exporter": "python",
   "pygments_lexer": "ipython2",
   "version": "2.7.9"
  }
 },
 "nbformat": 4,
 "nbformat_minor": 0
}
