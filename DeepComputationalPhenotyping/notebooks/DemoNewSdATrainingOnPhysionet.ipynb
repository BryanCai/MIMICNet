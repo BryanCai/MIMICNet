{
 "cells": [
  {
   "cell_type": "code",
   "execution_count": 1,
   "metadata": {
    "collapsed": false
   },
   "outputs": [
    {
     "name": "stdout",
     "output_type": "stream",
     "text": [
      "Populating the interactive namespace from numpy and matplotlib\n"
     ]
    }
   ],
   "source": [
    "%pylab inline"
   ]
  },
  {
   "cell_type": "code",
   "execution_count": 2,
   "metadata": {
    "collapsed": false,
    "scrolled": true
   },
   "outputs": [
    {
     "data": {
      "text/plain": [
       "'C:\\\\GitHub\\\\DeepComputationalPhenotyping'"
      ]
     },
     "execution_count": 2,
     "metadata": {},
     "output_type": "execute_result"
    }
   ],
   "source": [
    "import os\n",
    "os.chdir('..')\n",
    "os.getcwd()"
   ]
  },
  {
   "cell_type": "code",
   "execution_count": null,
   "metadata": {
    "collapsed": true
   },
   "outputs": [],
   "source": [
    "import theano\n",
    "from tengwar.data import make_theano_shared"
   ]
  },
  {
   "cell_type": "code",
   "execution_count": null,
   "metadata": {
    "collapsed": true
   },
   "outputs": [],
   "source": [
    "import theano\n",
    "import tengwar.nnet.NewSdA # multitask logistic regression\n",
    "import tengwar.nnet # all neural network training functions \n",
    "import tengwar.eval # most of the functions to compute performance metrics\n",
    "\n",
    "# all non-neural network baselines\n",
    "from sklearn.svm import LinearSVC\n",
    "from sklearn.linear_model import LogisticRegression\n",
    "from sklearn.multiclass import OneVsRestClassifier\n",
    "\n",
    "from pandas import Series, DataFrame\n",
    "\n",
    "from tengwar.data import make_theano_shared # make theano shared_variables for input\n",
    "from tengwar.eval import do_per_frame_performance, do_per_episode_combined_performance, make_firstN_indeces # performance evaluation functions"
   ]
  },
  {
   "cell_type": "code",
   "execution_count": null,
   "metadata": {
    "collapsed": true
   },
   "outputs": [],
   "source": [
    "theano.config.optdb.max_use_ratio # A ratio that prevents infinite loop in EquilibriumOptimizer"
   ]
  },
  {
   "cell_type": "code",
   "execution_count": 20,
   "metadata": {
    "collapsed": false
   },
   "outputs": [],
   "source": [
    "PATH = '/home/mldata/KDD/physionet' # path to data folder\n",
    "SUB_FOLDER = 'frames-60min-frame12-stride6'\n",
    "LABEL_FILE = 'labels_etc.npz' # file that contains all the raw data except the featues\n",
    "FRAME_FILE = 'frames-imputed.npy' # file that contains raw frames (different level from FEATURE_FILE)\n",
    "\n",
    "ndata = np.load(os.path.join(PATH, SUB_FOLDER, LABEL_FILE))\n",
    "\n",
    "L = ndata['islabeled'].ravel()\n",
    "Y = ndata['Y'][L].astype(theano.config.floatX)\n",
    "FU = ndata['fold10'].ravel()\n",
    "F = ndata['fold10'][L].ravel()\n",
    "Ep = ndata['Ep'][L].ravel()\n",
    "S = ndata['S'][L].astype(theano.config.floatX)\n",
    "V = ndata['V'][L].astype(theano.config.floatX)\n",
    "\n",
    "X = np.load(os.path.join(PATH, SUB_FOLDER, FRAME_FILE)) # raw frames\n",
    "X = X.reshape(X.shape[0],-1).astype(theano.config.floatX)\n",
    "XU = X\n",
    "X = X[L]\n",
    "SU = S\n",
    "S = S[L]\n",
    "VU = V\n",
    "V = V[L]\n",
    "\n",
    "trixU = FU>2\n",
    "trix = F>2\n",
    "vix = F==2\n",
    "teix = F==1"
   ]
  },
  {
   "cell_type": "code",
   "execution_count": null,
   "metadata": {
    "collapsed": true
   },
   "outputs": [],
   "source": [
    "# get the Laplacian prior\n",
    "Ytr = Y[trix,...]\n",
    "yden = np.sqrt(Ytr.sum(axis=0)[None,:])\n",
    "Lap = Ytr.T.dot(Ytr) / yden.T.dot(yden)\n",
    "#Lap = (Ytr[Ltr,...].T.dot(Ytr[Ltr,...]) + (1-Ytr[Ltr,...]).T.dot(1-Ytr[Ltr,...])) / Ytr[Ltr,...].shape[0]\n",
    "Lap = Lap.astype(theano.config.floatX)\n",
    "print Lap"
   ]
  },
  {
   "cell_type": "code",
   "execution_count": 22,
   "metadata": {
    "collapsed": false
   },
   "outputs": [],
   "source": [
    "ndata = np.load(os.path.join(PATH, 'physionet_challenge-60min.npz'))\n",
    "LE = ndata['islabeled'].ravel()\n",
    "YE = ndata['Y'][LE].astype(int)\n",
    "VE = ndata['V'][LE]\n",
    "SE = ndata['S'][LE]\n",
    "EpE = ndata['Ep'][LE].ravel()\n",
    "FE = ndata['fold10'][LE].ravel()\n",
    "\n",
    "trixE = FE>2\n",
    "vixE  = FE==2\n",
    "teixE = FE==1"
   ]
  },
  {
   "cell_type": "code",
   "execution_count": 23,
   "metadata": {
    "collapsed": false
   },
   "outputs": [],
   "source": []
  },
  {
   "cell_type": "code",
   "execution_count": null,
   "metadata": {
    "collapsed": true
   },
   "outputs": [],
   "source": [
    "# describe all hyperparameters and make neural net object\n",
    "HL = [300, 300]\n",
    "CL = [0.2, 0.4]\n",
    "lambda_h_l2 = 0 #0.0001\n",
    "\n",
    "fn_prefix = 'weights-physio-hl{0}-co{1}'.format('_'.join([ str(h) for h in HL ]),\n",
    "                                  '_'.join([ str(c) for c in CL ]))\n",
    "\n",
    "reload(tengwar.nnet)\n",
    "reload(tengwar.nnet.NewSdA)\n",
    "\n",
    "numpy_rng = np.random.RandomState()\n",
    "sda = tengwar.nnet.NewSdA.NewSdA(numpy_rng, hidden_layers_sizes=HL, corruption_levels=CL,\n",
    "                                 n_ins=X.shape[1], n_outs=Y.shape[1], Py_emp=0.5,\n",
    "                                 lambda_h_l2 = lambda_h_l2,\n",
    "                                 S_matrix = Lap)\n"
   ]
  },
  {
   "cell_type": "code",
   "execution_count": null,
   "metadata": {
    "collapsed": true
   },
   "outputs": [],
   "source": [
    "# do unsupervised pretraining\n",
    "# will use all (labeled and unlabeled) data for unsupervised training\n",
    "XtrS,_ = make_theano_shared(XU[trixU])\n",
    "\n",
    "fn_prefix_unsup = fn_prefix + '-pretrain'\n",
    "sda.do_unsupervised_pretraining(train_set_x=XtrS, epochs=50,\n",
    "                                    learn_rate=0.001, batch_size=50,\n",
    "                                    save_fnbase=fn_prefix_unsup)"
   ]
  },
  {
   "cell_type": "code",
   "execution_count": 42,
   "metadata": {
    "collapsed": true
   },
   "outputs": [],
   "source": [
    "# do supervised finetuning\n",
    "XtrS,YtrS = make_theano_shared(X[trix],Y[trix])\n",
    "XvS,YvS   = make_theano_shared(X[vix],Y[vix])\n",
    "XteS,YteS = make_theano_shared(X[teix],Y[teix])\n",
    "\n",
    "fn_prefix_sup = fn_prefix + '-finetuned'\n",
    "sda.do_supervised_finetuning(train_set_x=XtrS, train_set_y=YtrS,\n",
    "                             valid_set_x=XvS, valid_set_y=YvS,\n",
    "                             test_set_x=XteS, test_set_y=YteS,\n",
    "                             epochs=50, batch_size=50, learn_rate=0.1,\n",
    "                             use_auc=False, save_fnbase=fn_prefix_sup)"
   ]
  },
  {
   "cell_type": "code",
   "execution_count": 44,
   "metadata": {
    "collapsed": false
   },
   "outputs": [],
   "source": [
    "from tengwar.nnet import FeedForwardNetwork\n",
    "\n",
    "from sklearn.svm import LinearSVC\n",
    "from sklearn.multiclass import OneVsRestClassifier\n",
    "from sklearn.metrics import accuracy_score, roc_auc_score"
   ]
  },
  {
   "cell_type": "code",
   "execution_count": 45,
   "metadata": {
    "collapsed": false
   },
   "outputs": [
    {
     "name": "stdout",
     "output_type": "stream",
     "text": [
      "FRAC POS: [ 0.  0.  0.  0.]\n",
      "MEAN DEC: [ 0.09141014  0.0925527   0.44607225  0.2474691 ]\n",
      "\n",
      "ALL ACC 0.71875 0.711875\n",
      "MAC AUC 0.550479124923 0.546661362309\n",
      "MIC AUC 0.550479124923 0.715871287162\n",
      "\n",
      "0 ACC 0.861528822055 0.86\n",
      "0 AUC 0.723376724116 0.726155163062\n",
      "\n",
      "1 ACC 0.858709273183 0.8575\n",
      "1 AUC 0.721867554018 0.721939688872\n",
      "\n",
      "2 ACC 0.516917293233 0.4875\n",
      "2 AUC 0.36713673702 0.368950492017\n",
      "\n",
      "3 ACC 0.637844611529 0.6425\n",
      "3 AUC 0.389535484539 0.369600105287\n",
      "\n"
     ]
    }
   ],
   "source": [
    "nn = FeedForwardNetwork.from_saved_weights(fn_prefix_sup + '-best.npz')\n",
    "Yh = nn.predict(X)\n",
    "Yd = nn.decision_function(X)\n",
    "print 'FRAC POS:', Yh.mean(axis=0)\n",
    "print 'MEAN DEC:', Yd.mean(axis=0)\n",
    "print ''\n",
    "\n",
    "print 'ALL ACC', accuracy_score(Y[trix].ravel(), Yh[trix].ravel()), accuracy_score(Y[teix].ravel(), Yh[teix].ravel())\n",
    "print 'MAC AUC', roc_auc_score(Y[trix], Yd[trix], average='macro'), roc_auc_score(Y[teix], Yd[teix], average='macro')\n",
    "print 'MIC AUC', roc_auc_score(Y[trix], Yd[trix], average='micro'), roc_auc_score(Y[teix], Yd[teix], average='micro')\n",
    "print ''\n",
    "\n",
    "for task in range(Y.shape[1]):\n",
    "    print task, 'ACC', accuracy_score(Y[trix,task], Yh[trix,task]), accuracy_score(Y[teix,task], Yh[teix,task])\n",
    "    print task, 'AUC', roc_auc_score(Y[trix,task], Yd[trix,task]), roc_auc_score(Y[teix,task], Yd[teix,task])\n",
    "    print ''"
   ]
  },
  {
   "cell_type": "code",
   "execution_count": 46,
   "metadata": {
    "collapsed": false
   },
   "outputs": [
    {
     "name": "stdout",
     "output_type": "stream",
     "text": [
      "test combining per-frame predictions, mean dec val\n",
      "FRAC POS: [ 0.  0.  0.  0.]\n",
      "MEAN DEC: [ 0.09141029  0.09255241  0.44608113  0.24746855]\n",
      "\n",
      "ALL ACC 0.71875 0.711875\n",
      "MAC AUC 0.560927140542 0.554713128332\n",
      "MIC AUC 0.709480028088 0.717128279745\n",
      "\n",
      "0 ACC 0.861528822055 0.86\n",
      "0 AUC 0.749489099136 0.756333056478\n",
      "\n",
      "1 ACC 0.858709273183 0.8575\n",
      "1 AUC 0.747714956669 0.752391182037\n",
      "\n",
      "2 ACC 0.516917293233 0.4875\n",
      "2 AUC 0.362185866447 0.361375859912\n",
      "\n",
      "3 ACC 0.637844611529 0.6425\n",
      "3 AUC 0.384318639914 0.3487524149\n",
      "\n"
     ]
    }
   ],
   "source": [
    "print 'test combining per-frame predictions, mean dec val'\n",
    "\n",
    "#YdC = np.vstack([ np.median(Yd[Ep==e],axis=0) for e in EpE ])\n",
    "YdC = np.vstack([ Yd[Ep==e].mean(axis=0) for e in EpE ])\n",
    "#YdC = np.vstack([ Yd[Ep==e].max(axis=0) for e in EpE ])\n",
    "YhC = (YdC>0.5).astype(int)\n",
    "#YdC = np.vstack([ Yh[Ep==e].mean(axis=0) for e in EpE ])\n",
    "#YhC = (YdC>0.5).astype(int)\n",
    "\n",
    "print 'FRAC POS:', YhC.mean(axis=0)\n",
    "print 'MEAN DEC:', YdC.mean(axis=0)\n",
    "print ''\n",
    "\n",
    "print 'ALL ACC', accuracy_score(YE[trixE].ravel(), YhC[trixE].ravel()), accuracy_score(YE[teixE].ravel(), YhC[teixE].ravel())\n",
    "print 'MAC AUC', roc_auc_score(YE[trixE], YdC[trixE], average='macro'), roc_auc_score(YE[teixE], YdC[teixE], average='macro')\n",
    "print 'MIC AUC', roc_auc_score(YE[trixE], YdC[trixE], average='micro'), roc_auc_score(YE[teixE], YdC[teixE], average='micro')\n",
    "print ''\n",
    "\n",
    "for task in range(Y.shape[1]):\n",
    "    print task, 'ACC', accuracy_score(YE[trixE,task], YhC[trixE,task]), accuracy_score(YE[teixE,task], YhC[teixE,task])\n",
    "    print task, 'AUC', roc_auc_score(YE[trixE,task], YdC[trixE,task]), roc_auc_score(YE[teixE,task], YdC[teixE,task])\n",
    "    print ''"
   ]
  },
  {
   "cell_type": "code",
   "execution_count": 47,
   "metadata": {
    "collapsed": false
   },
   "outputs": [
    {
     "name": "stdout",
     "output_type": "stream",
     "text": [
      "fitting per-episode classifier, all feats...\n",
      "done!\n",
      "FRAC POS: [ 0.32214429  0.31738477  0.4509018   0.36673347]\n",
      "MEAN DEC: [-0.24593891 -0.24212055 -0.00638984 -0.1086729 ]\n",
      "\n",
      "ALL ACC 0.782189849624 0.751875\n",
      "MAC AUC 0.863258542086 0.826217042871\n",
      "MIC AUC 0.859323978587 0.82362082658\n",
      "\n",
      "0 ACC 0.762218045113 0.7275\n",
      "0 AUC 0.854548745372 0.818781146179\n",
      "\n",
      "1 ACC 0.765977443609 0.7425\n",
      "1 AUC 0.854362311326 0.817298347911\n",
      "\n",
      "2 ACC 0.768796992481 0.7375\n",
      "2 AUC 0.848639311402 0.810281425891\n",
      "\n",
      "3 ACC 0.831766917293 0.8\n",
      "3 AUC 0.895483800246 0.858507251503\n",
      "\n"
     ]
    }
   ],
   "source": [
    "H = nn.transform_features(X)\n",
    "\n",
    "print 'fitting per-episode classifier, all feats...'\n",
    "HE = np.vstack([ H[Ep==e].ravel() for e in EpE ])\n",
    "#print 'fitting per-episode classifier, median feat...'\n",
    "#HE = np.vstack([ np.median(H[Ep==e], axis=0) for e in EpE ])\n",
    "#print 'fitting per-episode classifier, max feat...'\n",
    "#HE = np.vstack([ H[Ep==e].max(axis=0) for e in EpE ])\n",
    "clE = OneVsRestClassifier(LinearSVC(penalty='l1', class_weight='auto', dual=False), n_jobs=-1)\n",
    "clE.fit(HE[trixE], YE[trixE])\n",
    "print 'done!'\n",
    "\n",
    "YhE = clE.predict(HE)\n",
    "YdE = clE.decision_function(HE)\n",
    "print 'FRAC POS:', YhE.mean(axis=0)\n",
    "print 'MEAN DEC:', YdE.mean(axis=0)\n",
    "print''\n",
    "\n",
    "print 'ALL ACC', accuracy_score(YE[trixE].ravel(), YhE[trixE].ravel()), accuracy_score(YE[teixE].ravel(), YhE[teixE].ravel())\n",
    "print 'MAC AUC', roc_auc_score(YE[trixE], YdE[trixE], average='macro'), roc_auc_score(YE[teixE], YdE[teixE], average='macro')\n",
    "print 'MIC AUC', roc_auc_score(YE[trixE], YdE[trixE], average='micro'), roc_auc_score(YE[teixE], YdE[teixE], average='micro')\n",
    "print''\n",
    "\n",
    "for task in range(Y.shape[1]):\n",
    "    print task, 'ACC', accuracy_score(YE[trixE,task], YhE[trixE,task]), accuracy_score(YE[teixE,task], YhE[teixE,task])\n",
    "    print task, 'AUC', roc_auc_score(YE[trixE,task], YdE[trixE,task]), roc_auc_score(YE[teixE,task], YdE[teixE,task])\n",
    "    print''"
   ]
  }
 ],
 "metadata": {
  "kernelspec": {
   "display_name": "Python 2",
   "language": "python",
   "name": "python2"
  },
  "language_info": {
   "codemirror_mode": {
    "name": "ipython",
    "version": 2
   },
   "file_extension": ".py",
   "mimetype": "text/x-python",
   "name": "python",
   "nbconvert_exporter": "python",
   "pygments_lexer": "ipython2",
   "version": "2.7.9"
  }
 },
 "nbformat": 4,
 "nbformat_minor": 0
}
